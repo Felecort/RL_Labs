{
 "cells": [
  {
   "cell_type": "markdown",
   "metadata": {
    "id": "NB4sn7_IfUiK"
   },
   "source": [
    "# Лабораторная работа №6. Простой policy gradient алгоритм (REINFORCE)"
   ]
  },
  {
   "cell_type": "code",
   "execution_count": 1,
   "metadata": {
    "colab": {
     "base_uri": "https://localhost:8080/"
    },
    "id": "dVmvGjM2fcAp",
    "outputId": "3e7bd1df-1f3c-41c5-ce65-5bf3b08d71ba"
   },
   "outputs": [
    {
     "name": "stdout",
     "output_type": "stream",
     "text": [
      "\u001b[2K   \u001b[90m━━━━━━━━━━━━━━━━━━━━━━━━━━━━━━━━━━━━━━━━\u001b[0m \u001b[32m1.9/1.9 MB\u001b[0m \u001b[31m14.8 MB/s\u001b[0m eta \u001b[36m0:00:00\u001b[0m\n",
      "\u001b[2K   \u001b[90m━━━━━━━━━━━━━━━━━━━━━━━━━━━━━━━━━━━━━━━━\u001b[0m \u001b[32m958.1/958.1 kB\u001b[0m \u001b[31m10.1 MB/s\u001b[0m eta \u001b[36m0:00:00\u001b[0m\n",
      "\u001b[?25h"
     ]
    }
   ],
   "source": [
    "!pip install -q swig\n",
    "# !pip install -q gym\n",
    "!pip install -q gymnasium"
   ]
  },
  {
   "cell_type": "markdown",
   "metadata": {
    "id": "XcTJsJ2iMod4"
   },
   "source": [
    "# Задания к лабораторной работе №1\n",
    "Написать свой код к разделу «Использование < Torch > согласно заданиям\n",
    "для всех фрагментов, помеченных как:  <ВАШ КОД:>"
   ]
  },
  {
   "cell_type": "code",
   "execution_count": 2,
   "metadata": {
    "id": "2VFKQ8dUfpDA"
   },
   "outputs": [],
   "source": [
    "import sys, os\n",
    "import gymnasium as gym\n",
    "import numpy as np\n",
    "import matplotlib.pyplot as plt"
   ]
  },
  {
   "cell_type": "code",
   "execution_count": 3,
   "metadata": {
    "id": "PYd79d_wM5ki"
   },
   "outputs": [],
   "source": [
    "if type(os.environ.get(\"DISPLAY\")) is not str or len(os.environ.get(\"DISPLAY\")) == 0:\n",
    "    os.environ['DISPLAY'] = ':1'"
   ]
  },
  {
   "cell_type": "code",
   "execution_count": 4,
   "metadata": {
    "colab": {
     "base_uri": "https://localhost:8080/",
     "height": 413
    },
    "id": "4fxGo1zQfUiM",
    "outputId": "90bafc1c-a21e-46ac-a6ca-803f32b1d0dd"
   },
   "outputs": [
    {
     "data": {
      "text/plain": [
       "<matplotlib.image.AxesImage at 0x7b9eb67ad960>"
      ]
     },
     "execution_count": 4,
     "metadata": {},
     "output_type": "execute_result"
    },
    {
     "data": {
      "image/png": "[encoded data removed]",
      "text/plain": [
       "<Figure size 640x480 with 1 Axes>"
      ]
     },
     "metadata": {},
     "output_type": "display_data"
    }
   ],
   "source": [
    "env = gym.make(\"CartPole-v1\", render_mode=\"rgb_array\")\n",
    "if hasattr(env, '_max_episode_steps'):\n",
    "    env = env.env\n",
    "env.reset()\n",
    "\n",
    "n_actions = env.action_space.n\n",
    "state_dim = env.observation_space.shape\n",
    "\n",
    "plt.imshow(env.render())"
   ]
  },
  {
   "cell_type": "code",
   "execution_count": 5,
   "metadata": {
    "id": "REVKg-xjfUiN"
   },
   "outputs": [],
   "source": [
    "import numpy as np\n",
    "import torch\n",
    "import torch.nn as nn\n",
    "import torch.nn.functional as F"
   ]
  },
  {
   "cell_type": "markdown",
   "metadata": {
    "id": "_jlr5cNQfUiO"
   },
   "source": [
    "Для алгоритма REINFORCE нам понадобится модель, которая предсказывает\n",
    "вероятности действий при заданных состояниях. Для стабильной работы не\n",
    "включайте слой softmax в вашу сетевую архитектуру. Мы будем использовать\n",
    "softmax или log-softmax, где это уместно."
   ]
  },
  {
   "cell_type": "code",
   "execution_count": 11,
   "metadata": {
    "id": "Xals_uqufUiO"
   },
   "outputs": [],
   "source": [
    "class PolicyGradientAgent(nn.Module):\n",
    "    def __init__(self, state_dim, n_actions):\n",
    "        super().__init__()\n",
    "        self.fc1 = nn.Linear(state_dim, 128)\n",
    "        self.fc2 = nn.Linear(128, n_actions)\n",
    "\n",
    "    def forward(self, x):\n",
    "        x = F.relu(self.fc1(x))\n",
    "        logits = self.fc2(x)\n",
    "        return logits"
   ]
  },
  {
   "cell_type": "code",
   "execution_count": 12,
   "metadata": {
    "id": "3iViBe4vfUiP"
   },
   "outputs": [],
   "source": [
    "def predict_probs(states):\n",
    "    \"\"\"\n",
    "    Прогнозировать вероятности действий при заданных состояниях.\n",
    "    :paramstates: numpy массив форм [batch, state_shape]\n",
    "    :returns: numpy массив формы [пакет, n_actions]\n",
    "    \"\"\"\n",
    "    agent.eval()\n",
    "\n",
    "    with torch.no_grad():\n",
    "        states_tensor = torch.tensor(states, dtype=torch.float32)\n",
    "\n",
    "        logits = agent(states_tensor)\n",
    "\n",
    "        probabilities = F.softmax(logits, dim=1)\n",
    "\n",
    "    return probabilities.data.numpy()"
   ]
  },
  {
   "cell_type": "markdown",
   "metadata": {
    "id": "WdKaLJVJfUiP"
   },
   "source": [
    "## Игра с моделью"
   ]
  },
  {
   "cell_type": "code",
   "execution_count": 13,
   "metadata": {
    "id": "cigyYRwdfUiP"
   },
   "outputs": [],
   "source": [
    "def generate_session(env, t_max=1000):\n",
    "    \"\"\"\n",
    "    Сыграйте полную сессию с агентом REINFORCE.\n",
    "    Возвращает последовательности состояний, действий и наград.\n",
    "    \"\"\"\n",
    "    # массивы для записи сессии\n",
    "    states, actions, rewards = [], [], []\n",
    "    s = env.reset()[0]\n",
    "\n",
    "    for t in range(t_max):\n",
    "        # массив вероятностей действий pi(a|s)\n",
    "        action_probs = predict_probs(np.array([s]))[0]\n",
    "        # Пример действия с заданной вероятностью\n",
    "        a = np.random.choice(n_actions, p=action_probs)\n",
    "        new_s, r, terminated, truncated, _ = env.step(a)\n",
    "        # записать историю сессий, для последующего обучения\n",
    "        states.append(s)\n",
    "        actions.append(a)\n",
    "        rewards.append(r)\n",
    "        s = new_s\n",
    "        if terminated or truncated:\n",
    "            break\n",
    "\n",
    "    return states, actions, rewards\n",
    "\n",
    "# Проверка\n",
    "agent = PolicyGradientAgent(state_dim[0], n_actions)\n",
    "states, actions, rewards = generate_session(env)"
   ]
  },
  {
   "cell_type": "markdown",
   "metadata": {
    "id": "XepLdpnbfUiQ"
   },
   "source": [
    "## Расчет кумулятивных вознаграждений."
   ]
  },
  {
   "cell_type": "code",
   "execution_count": null,
   "metadata": {
    "id": "GIEW53MSfUiQ"
   },
   "outputs": [],
   "source": [
    "def get_cumulative_rewards(rewards, # вознаграждение на каждом шаге\n",
    "                           gamma=0.99 # дисконт для вознаграждение\n",
    "                           ):\n",
    "    \"\"\"\n",
    "    Возьмите список немедленных вознаграждений r(s,a) за всю сессию\n",
    "    и вычислить кумулятивную доходность (также известную как G(s,a) в Sutton '16).\n",
    "    G_t = r_t + гамма*r_{t+1} + гамма^2*r_{t+2} + ...\n",
    "    Простой способ вычислить кумулятивное вознаграждение состоит в том, чтобы выполнить\n",
    "    итерацию, начиная с последнего к первому временному шагу и рекуррентно вычислить G_t = r_t +\n",
    "    gamma*G_{t+1}\n",
    "    Вы должны вернуть массив/список кумулятивных вознаграждений с таким же количеством\n",
    "    элементов, как и в начальных вознаграждениях.\n",
    "    \"\"\"\n",
    "    cumulative_rewards = torch.zeros_like(torch.tensor(rewards), dtype=torch.float32)\n",
    "    G_t = 0\n",
    "    for t in range(len(rewards)-1, -1, -1):\n",
    "        G_t = rewards[t] + gamma * G_t\n",
    "        cumulative_rewards[t] = G_t\n",
    "    return cumulative_rewards"
   ]
  },
  {
   "cell_type": "code",
   "execution_count": 30,
   "metadata": {
    "colab": {
     "base_uri": "https://localhost:8080/"
    },
    "id": "e52d2aXUfUiQ",
    "outputId": "4954dfbe-04e4-4d4e-856b-a0580436e79e"
   },
   "outputs": [
    {
     "name": "stdout",
     "output_type": "stream",
     "text": [
      "looks good!\n"
     ]
    }
   ],
   "source": [
    "assert len(get_cumulative_rewards(range(100))) == 100\n",
    "assert np.allclose(get_cumulative_rewards([0, 0, 1, 0, 0, 1, 0], gamma=0.9), [1.40049, 1.5561, 1.729, 0.81, 0.9, 1.0, 0.0])\n",
    "assert np.allclose(get_cumulative_rewards([0, 0, 1, -2, 3, -4, 0], gamma=0.5), [0.0625, 0.125, 0.25, -1.5, 1.0, -4.0, 0.0])\n",
    "assert np.allclose(get_cumulative_rewards([0, 0, 1, 2, 3, 4, 0], gamma=0), [0, 0, 1, 2, 3, 4, 0])\n",
    "print(\"looks good!\")"
   ]
  },
  {
   "cell_type": "markdown",
   "metadata": {
    "id": "6S0ZHjHJfUiQ"
   },
   "source": [
    "## Функция потерь и обновления."
   ]
  },
  {
   "cell_type": "code",
   "execution_count": 31,
   "metadata": {
    "id": "DpW7xn5vfUiR"
   },
   "outputs": [],
   "source": [
    "def train_on_session(states, actions, rewards):\n",
    "    \"\"\"в полном объеме обучает агента градиенту политики\"\"\"\n",
    "\n",
    "    states = torch.tensor(states, dtype=torch.float32)\n",
    "    actions = torch.tensor(actions, dtype=torch.long)\n",
    "    rewards = torch.tensor(rewards, dtype=torch.float32)\n",
    "\n",
    "    logits = agent(states)\n",
    "    policy = F.softmax(logits, dim=1)\n",
    "    log_policy = F.log_softmax(logits, dim=1)\n",
    "\n",
    "    log_policy_for_actions = log_policy[torch.arange(len(actions)), actions]\n",
    "\n",
    "    cumulative_rewards = get_cumulative_rewards(rewards)\n",
    "\n",
    "    J = torch.mean(log_policy_for_actions * cumulative_rewards)\n",
    "\n",
    "    entropy = torch.mean(torch.sum(policy * log_policy, dim=1))\n",
    "\n",
    "    loss = -(J + 0.1 * entropy)\n",
    "\n",
    "    optimizer.zero_grad()\n",
    "    loss.backward()\n",
    "    optimizer.step()\n",
    "\n",
    "    return sum(rewards)"
   ]
  },
  {
   "cell_type": "markdown",
   "metadata": {
    "id": "0EUq0r0PfUiR"
   },
   "source": [
    "## Актуальное обучение"
   ]
  },
  {
   "cell_type": "code",
   "execution_count": 33,
   "metadata": {
    "colab": {
     "base_uri": "https://localhost:8080/"
    },
    "id": "gTwlc_XzfUiR",
    "outputId": "00038424-0c84-4797-b073-4a0197d2c83f"
   },
   "outputs": [
    {
     "name": "stderr",
     "output_type": "stream",
     "text": [
      "<ipython-input-29-554caccdd107>:14: UserWarning: To copy construct from a tensor, it is recommended to use sourceTensor.clone().detach() or sourceTensor.clone().detach().requires_grad_(True), rather than torch.tensor(sourceTensor).\n",
      "  cumulative_rewards = torch.zeros_like(torch.tensor(rewards), dtype=torch.float32)\n"
     ]
    },
    {
     "name": "stdout",
     "output_type": "stream",
     "text": [
      "mean reward: 24.080\n",
      "mean reward: 32.130\n",
      "mean reward: 41.510\n",
      "mean reward: 57.230\n",
      "mean reward: 81.190\n",
      "mean reward: 119.000\n",
      "mean reward: 129.460\n",
      "mean reward: 263.430\n",
      "mean reward: 230.570\n",
      "mean reward: 241.200\n",
      "mean reward: 159.220\n",
      "mean reward: 213.380\n",
      "mean reward: 175.080\n",
      "mean reward: 297.410\n",
      "mean reward: 500.390\n",
      "You Win!\n"
     ]
    }
   ],
   "source": [
    "agent = PolicyGradientAgent(state_dim[0], n_actions)\n",
    "optimizer = torch.optim.Adam(agent.parameters(), lr=1e-3)\n",
    "\n",
    "for i in range(100):\n",
    "    rewards = [train_on_session(*generate_session(env)) for _ in range(100)]  # создание новой сессии\n",
    "    print(f'mean reward: {np.mean(rewards):.3f}')\n",
    "    if np.mean(rewards) > 300:\n",
    "        print(\"You Win!\")  # но обучение может быть продолжено\n",
    "        break"
   ]
  }
 ],
 "metadata": {
  "colab": {
   "provenance": []
  },
  "kernelspec": {
   "display_name": "Python 3",
   "language": "python",
   "name": "python3"
  },
  "language_info": {
   "codemirror_mode": {
    "name": "ipython",
    "version": 3
   },
   "file_extension": ".py",
   "mimetype": "text/x-python",
   "name": "python",
   "nbconvert_exporter": "python",
   "pygments_lexer": "ipython3",
   "version": "3.12.2"
  }
 },
 "nbformat": 4,
 "nbformat_minor": 0
}
